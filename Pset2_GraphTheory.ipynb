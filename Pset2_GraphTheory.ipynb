{
 "cells": [
  {
   "cell_type": "markdown",
   "metadata": {},
   "source": [
    "### Week 2 Problem Set: Graph Theory\n",
    "\n",
    "In this exercise we will work with real data from the C. Elegans nervous system, using data shared by the [WormAtlas](http://www.wormatlas.org/) database.  We will treat it as an undirected connectome for the purposes of this exercise.\n",
    "\n",
    "For some problems you will be provided with skeleton code - fill in the lines marked ```...``` with appropriate code to solve problem."
   ]
  },
  {
   "cell_type": "code",
   "execution_count": 1,
   "metadata": {},
   "outputs": [
    {
     "name": "stdout",
     "output_type": "stream",
     "text": [
      "283\n",
      "281\n"
     ]
    }
   ],
   "source": [
    "import pandas,numpy\n",
    "import os,sys\n",
    "import networkx as nx\n",
    "import matplotlib.pyplot as plt\n",
    "import scipy.stats\n",
    "\n",
    "from brainnetworks.utils import mk_random_graph\n",
    "\n",
    "%matplotlib inline\n",
    "\n",
    "# read the data from Wormatlas.org: see section 2.1 of http://www.wormatlas.org/neuronalwiring.html for details\n",
    "\n",
    "celegans_connectome=pandas.read_excel('http://www.wormatlas.org/images/NeuronConnect.xls')\n",
    "\n",
    "# set up the graph\n",
    "Gd = nx.DiGraph()\n",
    "for i in celegans_connectome.index:\n",
    "    Gd.add_edge(celegans_connectome.loc[i]['Neuron 1'],celegans_connectome.loc[i]['Neuron 2'])\n",
    "    \n",
    "Gu=Gd.to_undirected()\n",
    "\n",
    "# the graph has two connected components, so we will just keep the giant component\n",
    "components=nx.connected_component_subgraphs(Gu)\n",
    "G=next(components)\n",
    "print(Gu.number_of_nodes())\n",
    "print(G.number_of_nodes())"
   ]
  },
  {
   "cell_type": "markdown",
   "metadata": {},
   "source": [
    "### Problem 1:\n",
    "\n",
    "a. Plot a histogram of the degree distribution, and print out the mean and maximum degree\n"
   ]
  },
  {
   "cell_type": "code",
   "execution_count": 2,
   "metadata": {},
   "outputs": [
    {
     "data": {
      "image/png": "[encoded data removed]",
      "text/plain": [
       "<Figure size 432x288 with 1 Axes>"
      ]
     },
     "metadata": {
      "needs_background": "light"
     },
     "output_type": "display_data"
    },
    {
     "name": "stdout",
     "output_type": "stream",
     "text": [
      "Mean degree is 17.117438. Maximum degree is 115.\n"
     ]
    }
   ],
   "source": [
    "degree_distribution = [G.degree(n) for n in G.nodes()]\n",
    "plt.hist(degree_distribution, \n",
    "         bins=115);\n",
    "plt.ylabel('Nodes');\n",
    "plt.xlabel('Degree');\n",
    "plt.axvline(x=numpy.mean(degree_distribution), \n",
    "            color='#FF0000', \n",
    "            linestyle='dotted', \n",
    "            label='mean degree');\n",
    "plt.legend();\n",
    "plt.title('Degree distribution for $C. elegans$ connectome');\n",
    "plt.show();\n",
    "print('Mean degree is %f. Maximum degree is %d.' \n",
    "      % (numpy.mean(degree_distribution),\n",
    "         numpy.max(degree_distribution)))"
   ]
  },
  {
   "cell_type": "markdown",
   "metadata": {},
   "source": [
    "b. Compute the average clustering coefficient for the connectome"
   ]
  },
  {
   "cell_type": "code",
   "execution_count": 3,
   "metadata": {},
   "outputs": [
    {
     "name": "stdout",
     "output_type": "stream",
     "text": [
      "0.34604428028046025\n"
     ]
    }
   ],
   "source": [
    "ce_clustering = nx.average_clustering(G)\n",
    "print(ce_clustering)"
   ]
  },
  {
   "cell_type": "markdown",
   "metadata": {},
   "source": [
    "c. Compute the average path length for the connectome"
   ]
  },
  {
   "cell_type": "code",
   "execution_count": 4,
   "metadata": {},
   "outputs": [
    {
     "name": "stdout",
     "output_type": "stream",
     "text": [
      "2.324377224199288\n"
     ]
    }
   ],
   "source": [
    "ce_avgpathlength = nx.average_shortest_path_length(G)\n",
    "print(ce_avgpathlength)"
   ]
  },
  {
   "cell_type": "markdown",
   "metadata": {},
   "source": [
    "#### Problem 2\n",
    "\n",
    "First, use the provided code to create 100 random graphs with the same size as the C. Elegans connectome. For each graph, we compute its average clustering, average shortest path length, and maximum degree, and store those to a numpy array. (This may take a few minutes to run.)"
   ]
  },
  {
   "cell_type": "code",
   "execution_count": null,
   "metadata": {},
   "outputs": [],
   "source": [
    "# PROVIDED CODE\n",
    "nruns=100\n",
    "measures=['clustering','avgpathlength','maxdegree']\n",
    "results=pandas.DataFrame(numpy.zeros((nruns,len(measures))),\n",
    "                        columns=measures)\n",
    "\n",
    "for i in range(nruns):\n",
    "    G_rand = mk_random_graph(G)\n",
    "    results.iloc[i]['clustering']=nx.average_clustering(G_rand)\n",
    "    results.iloc[i]['avgpathlength']=nx.average_shortest_path_length(G_rand)\n",
    "    results.iloc[i]['maxdegree']=numpy.max([G_rand.degree[i] for i in G_rand.nodes])\n",
    "    "
   ]
  },
  {
   "cell_type": "markdown",
   "metadata": {},
   "source": [
    "a.  Compute the tail probability of the observed values of cluster and path length for the C. elegans network, in comparison to the random network results.  That is, what is the probability of a value as or more extreme than the observed value within the random graph distribution? You may find the function ```scipy.stats.percentileofscore()``` useful for this purpose."
   ]
  },
  {
   "cell_type": "code",
   "execution_count": null,
   "metadata": {},
   "outputs": [],
   "source": [
    "### PROVIDED CODE: \n",
    "\n",
    "p_clustering = (100 -  scipy.stats.percentileofscore(results['clustering'], ce_clustering))/100\n",
    "print('Clustering coefficient','\\tObserved:',ce_clustering,'\\tRandom:',results['clustering'].mean(),'\\tP =',p_clustering)\n",
    "\n",
    "p_avgpathlength = (100 - scipy.stats.percentileofscore(results['avgpathlength'], ce_avgpathlength))/100\n",
    "print('Average path length','\\tObserved:',ce_avgpathlength,'\\tRandom:',results['avgpathlength'].mean(),'\\tP =',p_avgpathlength)\n",
    "\n",
    "p_maxdegree = (100 - scipy.stats.percentileofscore(results['maxdegree'], numpy.max(degree_distribution)))/100\n",
    "print('Maximum degree','\\t\\tObserved:',numpy.max(degree_distribution),'\\t\\t\\tRandom:',results['maxdegree'].mean(),'\\t\\t\\tP =',p_maxdegree)\n"
   ]
  },
  {
   "cell_type": "markdown",
   "metadata": {},
   "source": [
    "Based on the results of this analysis, do you think that the C. Elegans connectome is a \"small world\" network\"? explain your answer."
   ]
  },
  {
   "cell_type": "markdown",
   "metadata": {},
   "source": [
    "**ANSWER**:\n",
    "\n",
    "Yes, the _C. elegans_ connectome is a small-world network. Small-world networks are characterised by:\n",
    "- A characteristic path length that is short relative to that of a lattice and comparable to (but longer than) that of a random graph\n",
    "- A clustering coefficient that is large relative to a random graph and comparable to (but lower than) that of a lattice.\n",
    "\n",
    "In the above simulation, neither the average path length nor the clustering coefficient of the connectome is matched by any of the randomly generated graphs of similar density. However, the difference in average path length is fractional, whereas the difference in clustering coefficient is almost an order of magnitude. Accordingly, it can be argued that the connectome has an average path length of comparable magnitude to the random graph and a clustering coefficient that is substantially greater."
   ]
  },
  {
   "cell_type": "markdown",
   "metadata": {},
   "source": [
    "### Problem 3:\n",
    "\n",
    "Determine which neuron is the most important based on these four criteria:\n",
    "\n",
    "- degree centrality\n",
    "- betweenness centrality\n",
    "- closeness centrality\n",
    "- eigenvector centrality\n",
    "\n",
    "Because networkx returns a dictionary when it computes centrality measures, we have provided a utility function to return the entry with the largest value."
   ]
  },
  {
   "cell_type": "code",
   "execution_count": null,
   "metadata": {},
   "outputs": [],
   "source": [
    "### PROVIDED CODE\n",
    "\n",
    "def get_max_from_dict(d):\n",
    "    \"\"\"\n",
    "    return the dict entry with the max value\n",
    "    after https://stackoverflow.com/questions/268272/getting-key-with-maximum-value-in-dictionary\n",
    "    \"\"\"\n",
    "    return max(d, key=lambda key: d[key])\n",
    "\n",
    "central_nodes={}\n",
    "# compute degree centrality\n",
    "central_nodes['degree']=get_max_from_dict(nx.degree_centrality(G))\n",
    "# compute eigenvector centrality\n",
    "central_nodes['eigenvector']=get_max_from_dict(nx.eigenvector_centrality(G))\n",
    "# compute betweenness centrality\n",
    "central_nodes['betweenness']=get_max_from_dict(nx.betweenness_centrality(G))\n",
    "# compute closeness centrality\n",
    "central_nodes['closeness']=get_max_from_dict(nx.closeness_centrality(G))\n",
    "\n",
    "print(central_nodes)"
   ]
  },
  {
   "cell_type": "markdown",
   "metadata": {},
   "source": [
    "You should see that the most central node differs between the different measures.  Given what you know about those measures, explain why this might be the case."
   ]
  },
  {
   "cell_type": "markdown",
   "metadata": {},
   "source": [
    "**ANSWER**:\n",
    "\n",
    "Different formulations of centrality represent different ways of estimating the importance of nodes in a network. Centrality formulations can be categorised as either:\n",
    "- Medial: node importance is assigned on the basis of paths along which the node lies, as is the case for betweenness centrality\n",
    "- Radial: node importance is assigned on the basis of a node's being at the end of a path, as is the case for degree, closeness, or eigenvector centrality\n",
    "\n",
    "Centrality formulations can also be categorised as based on either:\n",
    "- Volume, the number of paths, as is the case for degree, betweenness, and eigenvector centrality\n",
    "- Length of paths, as is the case for closeness centrality\n",
    "\n",
    "Degree centrality scores each node on the basis of the total number of direct connections to that node.\n",
    "Betweenness centrality scores each node on the basis of the total number of shortest node-to-node paths through that node.\n",
    "Closeness centrality scores each node on the basis of the distance to all other nodes along shortest paths originating at that node.\n",
    "Eigenvector centrality scores each node on the basis of its connections to other nodes with high eigenvector centrality, or on the basis of the number of infinite walks originating from that node.\n",
    "\n",
    "**NOTE**:\n",
    "\n",
    "NMJ, the node that comes up as most central in several measurements, isn't actually a neuron at all. It represents a generic neuromuscular junction (rather than any specific cellular unit), so it's a postsynaptic partner for _all_ motor neurons. (This also illustrates a potential pitfall of modelling the connectome as an undirected graph -- all connections of NMJ are in-edges.)"
   ]
  }
 ],
 "metadata": {
  "kernelspec": {
   "display_name": "Python 3",
   "language": "python",
   "name": "python3"
  },
  "language_info": {
   "codemirror_mode": {
    "name": "ipython",
    "version": 3
   },
   "file_extension": ".py",
   "mimetype": "text/x-python",
   "name": "python",
   "nbconvert_exporter": "python",
   "pygments_lexer": "ipython3",
   "version": "3.6.6"
  }
 },
 "nbformat": 4,
 "nbformat_minor": 2
}
